{
 "cells": [
  {
   "cell_type": "code",
   "execution_count": 12,
   "id": "ba4bd998",
   "metadata": {},
   "outputs": [
    {
     "name": "stdout",
     "output_type": "stream",
     "text": [
      "Kích thước dữ liệu: (919, 176)\n"
     ]
    }
   ],
   "source": [
    "import pandas as pd\n",
    "\n",
    "# Đọc file CSV\n",
    "df = pd.read_csv(\"D:\\\\KHDL\\\\Phân loại mục đích sử dụng và phân cụm laptop\\\\crawl_data\\\\raw_data\\\\mega.csv\")  # đổi tên nếu cần\n",
    "print(\"Kích thước dữ liệu:\", df.shape)"
   ]
  },
  {
   "cell_type": "code",
   "execution_count": 13,
   "id": "c8df2989",
   "metadata": {},
   "outputs": [
    {
     "name": "stdout",
     "output_type": "stream",
     "text": [
      "Số cột sau chuẩn hóa: 176\n"
     ]
    }
   ],
   "source": [
    "import unidecode\n",
    "import re\n",
    "# Loại bỏ dấu, chuyển về chữ thường, thay khoảng trắng thành \"_\", loại bỏ ký tự đặc biệt\n",
    "df.columns = [\n",
    "    re.sub(r'[^a-z0-9_]', '', unidecode.unidecode(col).strip().lower().replace(\" \", \"_\").replace(\"__\", \"_\"))\n",
    "    for col in df.columns\n",
    "]\n",
    "\n",
    "print(\"Số cột sau chuẩn hóa:\", len(df.columns))"
   ]
  },
  {
   "cell_type": "code",
   "execution_count": 14,
   "id": "ae28349f",
   "metadata": {},
   "outputs": [
    {
     "name": "stdout",
     "output_type": "stream",
     "text": [
      "Số lượng cột bị loại bỏ do trùng tên: 39\n"
     ]
    }
   ],
   "source": [
    "# Kiểm tra tên cột gốc\n",
    "original_columns = df.columns.tolist()\n",
    "\n",
    "# Loại bỏ các cột trùng tên (giữ cột đầu tiên)\n",
    "seen = set()\n",
    "new_columns = []\n",
    "drop_indices = []\n",
    "\n",
    "for idx, col in enumerate(original_columns):\n",
    "    if col not in seen:\n",
    "        seen.add(col)\n",
    "        new_columns.append(col)\n",
    "    else:\n",
    "        drop_indices.append(idx)\n",
    "\n",
    "# Số cột bị loại bỏ\n",
    "num_removed_columns = len(drop_indices)\n",
    "print(f\"Số lượng cột bị loại bỏ do trùng tên: {num_removed_columns}\")\n",
    "\n",
    "# Xóa các cột trùng tên theo chỉ số (giữ lại cột đầu tiên)\n",
    "df = df.loc[:, ~df.columns.duplicated(keep='first')]\n"
   ]
  },
  {
   "cell_type": "code",
   "execution_count": 15,
   "id": "2bcc613b",
   "metadata": {},
   "outputs": [
    {
     "data": {
      "text/plain": [
       "Index(['product_name', 'price', 'san_pham', 'ten_hang', 'model', 'bo_vi_xu_ly',\n",
       "       'card_do_hoa', 'bo_nho_ram', 'o_cung', 'so_cong_luu_tru_toi_da',\n",
       "       ...\n",
       "       'o_quang', 'unnamed_161', 'keyboard', 'khe_mo_rong',\n",
       "       'kieu_khe_m2_ho_tr', 'may_tinh_xach_tay', 'tinh_nang_khac',\n",
       "       'phu_kien_kem', 'bluetoothr', 'other_supports'],\n",
       "      dtype='object', length=137)"
      ]
     },
     "execution_count": 15,
     "metadata": {},
     "output_type": "execute_result"
    }
   ],
   "source": [
    "df.columns"
   ]
  },
  {
   "cell_type": "code",
   "execution_count": 16,
   "id": "e03f291b",
   "metadata": {},
   "outputs": [],
   "source": [
    "df.rename(columns={'kich_thuoc': 'Độ Dày'}, inplace=True)\n",
    "\n",
    "df.rename(columns={'trong_luong': 'Trọng Lượng'}, inplace=True)\n",
    "\n",
    "df.rename(columns={'ten_hang': 'Hãng Sản Xuất'}, inplace=True)\n"
   ]
  },
  {
   "cell_type": "code",
   "execution_count": 17,
   "id": "70f42b39",
   "metadata": {},
   "outputs": [
    {
     "name": "stderr",
     "output_type": "stream",
     "text": [
      "C:\\Users\\toanm\\AppData\\Local\\Temp\\ipykernel_25464\\5598874.py:4: FutureWarning: Downcasting object dtype arrays on .fillna, .ffill, .bfill is deprecated and will change in a future version. Call result.infer_objects(copy=False) instead. To opt-in to the future behavior, set `pd.set_option('future.no_silent_downcasting', True)`\n",
      "  df[new_column_name] = df[existing].bfill(axis=1).iloc[:, 0]\n",
      "C:\\Users\\toanm\\AppData\\Local\\Temp\\ipykernel_25464\\5598874.py:4: FutureWarning: Downcasting object dtype arrays on .fillna, .ffill, .bfill is deprecated and will change in a future version. Call result.infer_objects(copy=False) instead. To opt-in to the future behavior, set `pd.set_option('future.no_silent_downcasting', True)`\n",
      "  df[new_column_name] = df[existing].bfill(axis=1).iloc[:, 0]\n",
      "C:\\Users\\toanm\\AppData\\Local\\Temp\\ipykernel_25464\\5598874.py:4: FutureWarning: Downcasting object dtype arrays on .fillna, .ffill, .bfill is deprecated and will change in a future version. Call result.infer_objects(copy=False) instead. To opt-in to the future behavior, set `pd.set_option('future.no_silent_downcasting', True)`\n",
      "  df[new_column_name] = df[existing].bfill(axis=1).iloc[:, 0]\n",
      "C:\\Users\\toanm\\AppData\\Local\\Temp\\ipykernel_25464\\5598874.py:4: FutureWarning: Downcasting object dtype arrays on .fillna, .ffill, .bfill is deprecated and will change in a future version. Call result.infer_objects(copy=False) instead. To opt-in to the future behavior, set `pd.set_option('future.no_silent_downcasting', True)`\n",
      "  df[new_column_name] = df[existing].bfill(axis=1).iloc[:, 0]\n",
      "C:\\Users\\toanm\\AppData\\Local\\Temp\\ipykernel_25464\\5598874.py:4: FutureWarning: Downcasting object dtype arrays on .fillna, .ffill, .bfill is deprecated and will change in a future version. Call result.infer_objects(copy=False) instead. To opt-in to the future behavior, set `pd.set_option('future.no_silent_downcasting', True)`\n",
      "  df[new_column_name] = df[existing].bfill(axis=1).iloc[:, 0]\n",
      "C:\\Users\\toanm\\AppData\\Local\\Temp\\ipykernel_25464\\5598874.py:4: FutureWarning: Downcasting object dtype arrays on .fillna, .ffill, .bfill is deprecated and will change in a future version. Call result.infer_objects(copy=False) instead. To opt-in to the future behavior, set `pd.set_option('future.no_silent_downcasting', True)`\n",
      "  df[new_column_name] = df[existing].bfill(axis=1).iloc[:, 0]\n",
      "C:\\Users\\toanm\\AppData\\Local\\Temp\\ipykernel_25464\\5598874.py:4: FutureWarning: Downcasting object dtype arrays on .fillna, .ffill, .bfill is deprecated and will change in a future version. Call result.infer_objects(copy=False) instead. To opt-in to the future behavior, set `pd.set_option('future.no_silent_downcasting', True)`\n",
      "  df[new_column_name] = df[existing].bfill(axis=1).iloc[:, 0]\n",
      "C:\\Users\\toanm\\AppData\\Local\\Temp\\ipykernel_25464\\5598874.py:4: FutureWarning: Downcasting object dtype arrays on .fillna, .ffill, .bfill is deprecated and will change in a future version. Call result.infer_objects(copy=False) instead. To opt-in to the future behavior, set `pd.set_option('future.no_silent_downcasting', True)`\n",
      "  df[new_column_name] = df[existing].bfill(axis=1).iloc[:, 0]\n",
      "C:\\Users\\toanm\\AppData\\Local\\Temp\\ipykernel_25464\\5598874.py:4: FutureWarning: Downcasting object dtype arrays on .fillna, .ffill, .bfill is deprecated and will change in a future version. Call result.infer_objects(copy=False) instead. To opt-in to the future behavior, set `pd.set_option('future.no_silent_downcasting', True)`\n",
      "  df[new_column_name] = df[existing].bfill(axis=1).iloc[:, 0]\n",
      "C:\\Users\\toanm\\AppData\\Local\\Temp\\ipykernel_25464\\5598874.py:4: FutureWarning: Downcasting object dtype arrays on .fillna, .ffill, .bfill is deprecated and will change in a future version. Call result.infer_objects(copy=False) instead. To opt-in to the future behavior, set `pd.set_option('future.no_silent_downcasting', True)`\n",
      "  df[new_column_name] = df[existing].bfill(axis=1).iloc[:, 0]\n"
     ]
    }
   ],
   "source": [
    "def combine_columns(df, new_column_name, columns_to_merge):\n",
    "    existing = [col for col in columns_to_merge if col in df.columns]\n",
    "    if existing:\n",
    "        df[new_column_name] = df[existing].bfill(axis=1).iloc[:, 0]\n",
    "        df.drop(columns=[col for col in existing if col != new_column_name], inplace=True)\n",
    "    return df\n",
    "\n",
    "df = combine_columns(df,'Hãng Sản Xuất',[\n",
    "    'Hãng Sản Xuất','thuong_hieu','hang_san_xuat'\n",
    "])\n",
    "df = combine_columns(df,'Độ Dày',[\n",
    "    'Độ Dày','kich_thuoc_dai_x_rong_x_cao'\n",
    "])\n",
    "df = combine_columns(df, 'CPU', [''\n",
    "    'cpu', 'bo_vi_xu_ly', 'bo_xu_ly_-_cpu',\n",
    "    'bo_vxl', 'bo_xu_ly', 'cong_nghe_cpu',\n",
    "    'cpu','bo_xu_ly__cpu'\n",
    "])\n",
    "df = combine_columns(df, 'RAM', [\n",
    "    'ram', 'bo_nho_ram','dung_luong_ram',\n",
    "    'ram','bo_nho_trong__ram'\n",
    "])\n",
    "df = combine_columns(df, 'Bộ Nhớ', [\n",
    "    'o_cung', 'storage','o_dia_cung',\n",
    "    'luu_tru', 'bo_nho_trong', 'o_cung/_o_dia_quang',\n",
    "    'bo_nho_trong_-_ram', 'bo_nho', 'storage','dung_luong'\n",
    "])\n",
    "# Nhóm HDD\n",
    "df = combine_columns(df, 'HDD', [\n",
    "    'o_dia_cung_-_hdd','o_dia_cung__hdd','o_dia_cung_hdd'\n",
    "])\n",
    "# Nhóm SSD\n",
    "df = combine_columns(df, 'SSD', [\n",
    "    'ssd', 'o_dia_cung_-_ssd','o_dia_cung__ssd'\n",
    "])\n",
    "\n",
    "# Nhóm GPU\n",
    "df = combine_columns(df, 'GPU', [\n",
    "    'vga', 'card_do_hoa', 'gpu','card_man_hinh', 'card_do_hoa_-_video', 'loai_card_do_hoa', 'chip_do_hoa', 'card_vga', 'cac_do_hoa','do_hoa','card_do_hoa__video'\n",
    "])\n",
    "\n",
    "# Nhóm Battery\n",
    "df = combine_columns(df, 'Dung Lượng Pin', [\n",
    "    'pin', 'battery','pin_(battery)', 'pin(battery)', 'thoi_luong_pin', 'kieu_pin','pin_battery','pinbattery'\n",
    "])\n",
    "\n",
    "# Nhóm OS\n",
    "df = combine_columns(df, 'Hệ Điều Hành', [\n",
    "    'he_dieu_hanh', 'os','he_dieu_hanh_(ban_quyen)_di_kem', 'he_dieu_hanh_tuong_thich'\n",
    "])\n",
    "\n",
    "# Nhóm WiFi\n",
    "df = combine_columns(df, 'Mạng WiFi', [\n",
    "    'wifi', 'wireless', 'wifi,_bluetooth', 'wi-fi,_bluetooth',\n",
    "    'wi-fi', 'wi-fi,', 'chuan_wifi', 'chuan_wi-fi','wifi_bluetooth','wifi,_bluetooth', 'wi-fi,_bluetooth'\n",
    "])\n",
    "\n",
    "# Nhóm Bluetooth\n",
    "df = combine_columns(df, 'Bluetooth', [\n",
    "    'bluetooth','bluetooth(r)', 'bluetooth','bluetoothr'\n",
    "])\n",
    "\n",
    "# Nhóm Audio\n",
    "df = combine_columns(df, 'Âm Thanh', [\n",
    "    'audio', 'am_thanh', 'cong_nghe_am_thanh'\n",
    "])\n",
    "\n",
    "# Nhóm Security\n",
    "df = combine_columns(df, 'Bảo Mật', [\n",
    "    'bao_mat', 'bao_mat_van_tay', 'nhan_dang_van_tay', 'van_tay', 'finger_print'\n",
    "])\n",
    "\n",
    "# Nhóm Card Reader\n",
    "df = combine_columns(df, 'Đọc Thẻ', [\n",
    "    'doc_the', 'doc_the_nho', 'doc_the_-_card_reader', 'khe_doc_the_nho', 'card_reader','doc_the__card_reader', 'the_doc', 'doc_the_nho'\n",
    "])\n",
    "\n",
    "# Nhóm LAN\n",
    "df = combine_columns(df, 'Mạng LAN', [\n",
    "    'lan', 'chuan_lan', 'ket_noi_co_day_(lan)','ket_noi_mang_lan', 'mang', 'thong_so_(lan/wireless)','thong_so_lanwireless','ket_noi_co_day_lan'\n",
    "])\n",
    "\n",
    "# Nhóm Keyboard\n",
    "df = combine_columns(df, 'Bàn Phím', [\n",
    "    'ban_phim', 'keyboard', 'keyboard_+_mouse','kieu_ban_phim', 'keyboard','keyboard__mouse'\n",
    "])\n",
    "\n",
    "# Nhóm Color\n",
    "df = combine_columns(df, 'Màu Sắc', [\n",
    "    'mau_sac', 'mau_sac/_chat_lieu', 'color','mau', 'mau_sac_(colour)','mau_sac_chat_lieu','mau_sac_colour'\n",
    "])\n",
    "\n",
    "# Nhóm Material\n",
    "df = combine_columns(df, 'Chất Liệu', [\n",
    "    'chat_lieu', 'chat_lieu_san_pham', 'thiet_ke/_chat_lieu_vo'\n",
    "])\n",
    "\n",
    "# Nhóm Ports\n",
    "df = combine_columns(df, 'Cổng Giao Tiếp', [\n",
    "    'cong_giao_tiep', 'cong_giao_tiep_-_port', 'cong_i/o', 'cong_ket_noi', 'ket_noi_usb','giao_tiep',\n",
    "      'giao_tiep_mang', 'giao_tiep_mang_-_communications','cong_giao_tiep__port'\n",
    "])\n",
    "\n",
    "# Nhóm Expansion\n",
    "df = combine_columns(df, 'Khe Cắm', [\n",
    "    'kieu_khe_m.2_ho_tro', 'kieu_khe_m.2_ho_tr','kieu_khe_m.2_ho_tro',\n",
    "    'loai_khe_m2','kieu_khe_m2_ho_tro','kieu_khe_m2_ho_tr', 'loai_khe_m.2', 'khe_cam_mo_rong', 'khe_mo_rong'\n",
    "])\n",
    "# Nhóm Screen\n",
    "df = combine_columns(df, 'Màn Hình', [\n",
    "    'man_hinh', 'kich_thuoc_man_hinh', 'man_hinh_-_monitor', 'man_hinh_hien_thi', 'man_hin','man_hinh__monitor'\n",
    "])\n",
    "\n",
    "# Nhóm Accessories\n",
    "df = combine_columns(df, 'Phụ Kiện Đi Kèm', [\n",
    "    'phu_kien', 'phu_kien_kem', 'phu_kien_kem_theo'\n",
    "])\n",
    "\n",
    "# Nhóm Upgradeability\n",
    "df = combine_columns(df, 'Khả Năng Nâng Cấp', [\n",
    "    'ho_tro_nang_cap', 'kha_nang_nang_cap_trong_tuong_lai', 'kha_nang_nang_cap_ram'\n",
    "])\n",
    "# Nhóm Optical Drive\n",
    "df = combine_columns(df, 'Ổ Đĩa Quang', [\n",
    "    'o_dia_quang', 'o_dia_quang_(dvd)', 'o_dia_quang_(odd)', 'o_quang','o_cung/_o_dia_quang', \n",
    "    'optical_drive','o_cung_o_dia_quang','o_dia_quang_dvd','o_dia_quang_odd'\n",
    "])\n",
    "\n",
    "# Nhóm Backlight\n",
    "df = combine_columns(df, 'Đèn Led', [\n",
    "    'den_led_tren_may', 'den_ban_phim', 'loai_den_ban_phim'\n",
    "])\n",
    "\n",
    "# Nhóm Power\n",
    "df = combine_columns(df, 'Nguồn', [\n",
    "    'nguon', 'bo_nguon','cong_suat_bo_sac'\n",
    "])\n",
    "\n",
    "# Nhóm Other Features\n",
    "df = combine_columns(df, 'Tính Năng Khác', [\n",
    "    'tinh_nang_dac_biet', 'tinh_nang_khac', 'mo_ta_khac', 'other_supports'\n",
    "])\n",
    "\n"
   ]
  },
  {
   "cell_type": "code",
   "execution_count": 18,
   "id": "40633eb2",
   "metadata": {},
   "outputs": [],
   "source": [
    "#Đổi tên các cột\n",
    "df = combine_columns(df, 'Tên Sản Phẩm', ['product_name'])\n",
    "df = combine_columns(df, 'Giá Bán', ['price'])\n",
    "df = combine_columns(df, 'Loại Sản Phẩm', ['san_pham'])\n",
    "df = combine_columns(df, 'Mẫu Mã', ['model'])\n",
    "df = combine_columns(df, 'Số Cổng Lưu Trữ Tối Đa', ['so_cong_luu_tru_toi_da'])\n",
    "df = combine_columns(df, 'Kết Nối', ['ket_noi'])\n",
    "df = combine_columns(df, 'Webcam', ['webcam'])\n",
    "df = combine_columns(df, 'Camera', ['camera'])\n",
    "df = combine_columns(df, 'Kết Nối Không Dây', ['ket_noi_khong_day'])\n",
    "df = combine_columns(df, 'Giao Tiếp Mạng', ['giao_tiep_mang__communications'])\n",
    "df = combine_columns(df, 'NPU', ['npu'])\n",
    "df = combine_columns(df, 'Cổng IO', ['cong_io'])\n",
    "df = combine_columns(df, 'Cổng Xuất Hình', ['cong_xuat_hinh'])\n",
    "df = combine_columns(df, 'Loa', ['loa'])\n",
    "df = combine_columns(df, 'Năm Sản Xuất', ['nam_san_xuat'])\n",
    "df = combine_columns(df, 'Thiết Kế Chất Liệu Vỏ', ['thiet_ke_chat_lieu_vo'])\n",
    "df = combine_columns(df, 'Hệ Điều Hành Bản Quyền Đi Kèm', ['he_dieu_hanh_ban_quyen_di_kem'])\n",
    "df = combine_columns(df, 'Phần Mềm Có Sẵn', ['phan_mem_co_san'])\n",
    "df = combine_columns(df, 'Card Mở Rộng', ['card_mo_rong'])\n",
    "df = combine_columns(df, 'Unnamed 161', ['unnamed_161'])\n",
    "df = combine_columns(df, 'Mãy Tính Xách Tay', ['may_tinh_xach_tay'])"
   ]
  },
  {
   "cell_type": "code",
   "execution_count": 19,
   "id": "9add4dc5",
   "metadata": {},
   "outputs": [],
   "source": [
    "# Thay 'Liên hệ' hoặc các giá trị không phải số thành NaN\n",
    "df['Giá Bán'] = df['Giá Bán'].replace('Liên hệ', None)\n",
    "df['Giá Bán'] = (\n",
    "    df['Giá Bán']\n",
    "    .astype(str)  # Ép về chuỗi\n",
    "    .str.replace('đ', '', regex=False)\n",
    "    .str.replace('.', '', regex=False)\n",
    "    .str.replace(',', '', regex=False)  # nếu có dấu phẩy\n",
    ")\n",
    "\n",
    "# Sau đó chuyển về float, nếu không chuyển được thì thành NaN\n",
    "df['Giá Bán'] = pd.to_numeric(df['Giá Bán'], errors='coerce')"
   ]
  },
  {
   "cell_type": "code",
   "execution_count": 20,
   "id": "a596d445",
   "metadata": {},
   "outputs": [],
   "source": [
    "# Xuất dữ liệu đã làm sạch\n",
    "df.to_csv(\"../clean_data_train/clean_mega.csv\", index=False)"
   ]
  }
 ],
 "metadata": {
  "kernelspec": {
   "display_name": "base",
   "language": "python",
   "name": "python3"
  },
  "language_info": {
   "codemirror_mode": {
    "name": "ipython",
    "version": 3
   },
   "file_extension": ".py",
   "mimetype": "text/x-python",
   "name": "python",
   "nbconvert_exporter": "python",
   "pygments_lexer": "ipython3",
   "version": "3.12.7"
  }
 },
 "nbformat": 4,
 "nbformat_minor": 5
}
