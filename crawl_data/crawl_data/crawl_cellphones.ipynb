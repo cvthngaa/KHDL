{
 "cells": [
  {
   "cell_type": "code",
   "execution_count": null,
   "id": "9502cc3c",
   "metadata": {},
   "outputs": [
    {
     "name": "stdout",
     "output_type": "stream",
     "text": [
      "Đã lấy 772 link laptop. Dữ liệu đã lưu vào file.\n"
     ]
    }
   ],
   "source": [
    "from selenium import webdriver\n",
    "from selenium.webdriver.common.by import By\n",
    "from selenium.webdriver.chrome.service import Service\n",
    "from selenium.webdriver.chrome.options import Options\n",
    "import pandas as pd\n",
    "import time\n",
    "import os\n",
    "\n",
    "# Khởi tạo driver\n",
    "path = \"./chromedriver.exe\"\n",
    "service = Service(path)\n",
    "options = Options()\n",
    "options.add_argument(\"start-maximized\")\n",
    "driver = webdriver.Chrome(service=service, options=options)\n",
    "\n",
    "# Mở trang web\n",
    "url = \"https://cellphones.com.vn/laptop.html\"\n",
    "driver.get(url)\n",
    "time.sleep(3)\n",
    "# index = 0\n",
    "# Click \"Xem thêm\" nhiều lần để tải toàn bộ sản phẩm\n",
    "while True:  # Giới hạn số lần click để tránh load quá nhiều\n",
    "    try:\n",
    "        # Tìm nút \"Xem thêm\"\n",
    "        show_more_btn = driver.find_element(By.CSS_SELECTOR, 'a.button.btn-show-more.button__show-more-product')\n",
    "        # Nếu có, click\n",
    "        driver.execute_script(\"arguments[0].click();\", show_more_btn)\n",
    "        time.sleep(2)\n",
    "        # index += 1\n",
    "    except:\n",
    "        # Nếu không tìm thấy nữa -> thoát\n",
    "        break\n",
    "\n",
    "# Sau khi đã load hết, lấy tất cả link sản phẩm\n",
    "product_elements = driver.find_elements(By.CSS_SELECTOR, 'a.product__link.button__link')\n",
    "product_links = [el.get_attribute('href') for el in product_elements if el.get_attribute('href')]\n",
    "\n",
    "# Ghi dữ liệu ra file CSV\n",
    "file = \"../rawdata/rawdata_link.csv\"\n",
    "df = pd.DataFrame(product_links, columns=[\"product_link\"])\n",
    "df.to_csv(file, mode='a', header=not os.path.exists(file), index=False)\n",
    "\n",
    "print(f\"Đã lấy {len(product_links)} link laptop. Dữ liệu đã lưu vào file.\")\n",
    "\n",
    "# Đóng trình duyệt\n",
    "driver.quit()"
   ]
  }
 ],
 "metadata": {
  "kernelspec": {
   "display_name": "venv",
   "language": "python",
   "name": "python3"
  },
  "language_info": {
   "codemirror_mode": {
    "name": "ipython",
    "version": 3
   },
   "file_extension": ".py",
   "mimetype": "text/x-python",
   "name": "python",
   "nbconvert_exporter": "python",
   "pygments_lexer": "ipython3",
   "version": "3.12.8"
  }
 },
 "nbformat": 4,
 "nbformat_minor": 5
}
