{
 "cells": [
  {
   "cell_type": "code",
   "execution_count": 63,
   "id": "b9f346d0",
   "metadata": {},
   "outputs": [
    {
     "name": "stdout",
     "output_type": "stream",
     "text": [
      "Số lượng link: 101\n",
      "['https://cellphones.com.vn/laptop-asus-tuf-gaming-a15-fa506ncr-hn047w.html', 'https://cellphones.com.vn/macbook-air-15-inch-m3-16gb-1tb-2024-sac-70w.html', 'https://cellphones.com.vn/laptop-hp-probook-440-g9.html', 'https://cellphones.com.vn/laptop-dell-latitude-e7250.html', 'https://cellphones.com.vn/laptop-lenovo-thinkpad-p51.html', 'https://cellphones.com.vn/laptop-lenovo-ideapad-slim-5-16imh9-83dc001rvn.html', 'https://cellphones.com.vn/apple-mac-mini-m4-pro-12cpu-16gpu-64gb-1tb-2024-ethernet-10-gigabit.html', 'https://cellphones.com.vn/laptop-lenovo-ideapad-slim-5-14akp10-83hx001jvn-ryzen-ai-7.html', 'https://cellphones.com.vn/laptop-lenovo-thinkpad-e16-gen-1-21jn006gvn.html', 'https://cellphones.com.vn/apple-mac-mini-m4-10cpu-10gpu-32gb-256gb-2024.html', 'https://cellphones.com.vn/laptop-gigabyte-g5-kf5-53vn383sh.html', 'https://cellphones.com.vn/laptop-asus-expertbook-p1-p1503cva-i5se16-63ws.html', 'https://cellphones.com.vn/laptop-hp-elitebook-840-g9.html', 'https://cellphones.com.vn/laptop-msi-katana-15-b13udxk-2270vn.html', 'https://cellphones.com.vn/laptop-dell-inspiron-7425.html', 'https://cellphones.com.vn/laptop-dell-xps-15-7590.html', 'https://cellphones.com.vn/laptop-gigabyte-g5-md-51s1123sh.html', 'https://cellphones.com.vn/laptop-gigabyte-g5-ke-52vn263sh.html', 'https://cellphones.com.vn/laptop-gigabyte-g5-mf5-52vn353sh.html', 'https://cellphones.com.vn/laptop-gaming-acer-nitro-v-anv16-41-r6na.html', 'https://cellphones.com.vn/imac-m3-2023-24-inch-16gb-512gb.html', 'https://cellphones.com.vn/laptop-gaming-acer-nitro-5-an515-45-r6ev-nhqbmsv-006.html', 'https://cellphones.com.vn/laptop-dell-vostro-5568.html', 'https://cellphones.com.vn/laptop-lenovo-ideapad-slim-3-15iah8-83er000bvn.html', 'https://cellphones.com.vn/laptop-hp-envy-x360-13-bf0092tu-76v59pa.html', 'https://cellphones.com.vn/laptop-alienware-x14-r1.html', 'https://cellphones.com.vn/laptop-dell-latitude-5520.html', 'https://cellphones.com.vn/laptop-dell-xps-13-9300.html', 'https://cellphones.com.vn/macbook-pro-m4-pro-16-inch-14cpu-20gpu-24gb-512gb-nano.html', 'https://cellphones.com.vn/laptop-dell-alienware-m16.html', 'https://cellphones.com.vn/laptop-dell-alienware-m15-r7.html', 'https://cellphones.com.vn/laptop-asus-expertbook-b1-b1402cva-nk0062w.html', 'https://cellphones.com.vn/imac-m4-2024-24-inch-24gb-512gb.html', 'https://cellphones.com.vn/macbook-air-m3-15-inch-24gb-512gb-2024-sac-70w.html', 'https://cellphones.com.vn/laptop-vaio-fe-15-vwnc51527-bl.html', 'https://cellphones.com.vn/laptop-lenovo-legion-slim-5-16irh8-82ya00buvn.html', 'https://cellphones.com.vn/laptop-hp-elitebook-840-g6.html', 'https://cellphones.com.vn/laptop-hp-probook-6570b.html', 'https://cellphones.com.vn/laptop-hp-probook-450-g3.html', 'https://cellphones.com.vn/laptop-hp-elitebook-640-g9.html', 'https://cellphones.com.vn/laptop-hp-elitebook-8460p.html', 'https://cellphones.com.vn/laptop-asus-expertbook-b1402cva-nk0177w.html', 'https://cellphones.com.vn/laptop-asus-expertbook-b1-b1502cva-nj0149w.html', 'https://cellphones.com.vn/laptop-gaming-acer-nitro-v-anv16-41-r36y.html', 'https://cellphones.com.vn/macbook-pro-14-inch-m3-pro-128gb-8tb.html', 'https://cellphones.com.vn/imac-24-m4-8cpu-8gpu-16gb-1tb-2024-ethernet.html', 'https://cellphones.com.vn/laptop-asus-expertbook-p1-p1503cva-i7se16-63ws.html', 'https://cellphones.com.vn/laptop-gaming-acer-nitro-v-anv16-41-r7en.html', 'https://cellphones.com.vn/laptop-acer-aspire-3-a315-42-r4xd.html', 'https://cellphones.com.vn/laptop-lenovo-yoga-slim-7-carbon-13iap7-82u90044vn.html', 'https://cellphones.com.vn/apple-macbook-pro-14-m4-10cpu-10gpu-16gb-512gb-2024-sac-96w.html', 'https://cellphones.com.vn/laptop-asus-expertbook-b1-b1502cva-nj0175w.html', 'https://cellphones.com.vn/laptop-asus-expertbook-b1-b1402cva-nk0176w.html', 'https://cellphones.com.vn/mac-mini-m2-2023-16gb-1tb.html', 'https://cellphones.com.vn/laptop-hp-gaming-victus-15-fa0110tx-7c0r3pa.html', 'https://cellphones.com.vn/laptop-hp-gaming-victus-16-e1105ax-7c0t0pa.html', 'https://cellphones.com.vn/laptop-hp-elitebook-840-g3.html', 'https://cellphones.com.vn/laptop-gaming-acer-nitro-5-an515-55-5923.html', 'https://cellphones.com.vn/laptop-asus-zenbook-s-13-oled-ux5304va-nq126w.html', 'https://cellphones.com.vn/laptop-asus-vivobook-14-x1404va-nk125w.html', 'https://cellphones.com.vn/laptop-dell-latitude-e7450.html', 'https://cellphones.com.vn/laptop-asus-rog-strix-g18-g814jvr-n6089w.html', 'https://cellphones.com.vn/laptop-asus-expertbook-b1-b1502cva-nj0148w.html', 'https://cellphones.com.vn/laptop-lenovo-yoga-pro-7-14irh8-82y70050vn.html', 'https://cellphones.com.vn/mac-mini-m2-pro-32gb-1tb-2023.html', 'https://cellphones.com.vn/laptop-hp-gaming-victus-16-e1102ax-7c139pa.html', 'https://cellphones.com.vn/laptop-hp-envy-16-h0205tx-7c0t2pa.html', 'https://cellphones.com.vn/laptop-hp-victus-16-s0077ax-r7-8c5n6pa-cu-dep.html', 'https://cellphones.com.vn/laptop-dell-xps-13-9370.html', 'https://cellphones.com.vn/laptop-asus-expertbook-b1-b1502cva-nj0050w.html', 'https://cellphones.com.vn/laptop-lenovo-ideapad-3-15iau7-82rk015avn.html', 'https://cellphones.com.vn/laptop-lenovo-legion-slim-5-16irh8-82ya008hvn.html', 'https://cellphones.com.vn/laptop-acer-swift-go-14-ai-sfg14-74-58fj.html', 'https://cellphones.com.vn/laptop-dell-latitude-e5570.html', 'https://cellphones.com.vn/laptop-dell-latitude-5420.html', 'https://cellphones.com.vn/apple-imac-24-m4-10cpu-10gpu-24gb-1tb-2024-touch-id-z1eh.html', 'https://cellphones.com.vn/laptop-lenovo-legion-pro-7-16irx9h-83de001nvn.html', 'https://cellphones.com.vn/laptop-acer-aspire-3-a315-58-529v-nx-addsv-00n.html', 'https://cellphones.com.vn/laptop-lenovo-100e-gen-2-celeron.html', 'https://cellphones.com.vn/laptop-hp-probook-6560b.html', 'https://cellphones.com.vn/laptop-dell-latitude-e6420.html', 'https://cellphones.com.vn/laptop-dell-vostro-5470.html', 'https://cellphones.com.vn/laptop-dell-inspiron-5515-r1505s.html', 'https://cellphones.com.vn/laptop-asus-v16-k3607vu-rp280w.html', 'https://cellphones.com.vn/laptop-hp-envy-x360-2in1-14-fc0088tu-a19bypa.html', 'https://cellphones.com.vn/laptop-hp-gaming-victus-15-fb1022ax-94f19pa.html', 'https://cellphones.com.vn/laptop-hp-gaming-victus-16-e1104ax-7c0s9pa.html', 'https://cellphones.com.vn/laptop-dell-vostro-5468.html', 'https://cellphones.com.vn/laptop-hp-240-g8-518v8pa.html', 'https://cellphones.com.vn/laptop-lenovo-thinkbook-14-g2-are.html', 'https://cellphones.com.vn/laptop-lenovo-ideapad-1-15amn7-82vg0022vn.html', 'https://cellphones.com.vn/laptop-lenovo-ideapad-slim-5-14imh9-83da001yvn.html', 'https://cellphones.com.vn/laptop-msi-prestige-13-evo-a13m-081vn.html', 'https://cellphones.com.vn/laptop-asus-expertbook-p5-p5405csa-nz0451w.html', 'https://cellphones.com.vn/laptop-lenovo-thinkpad-t460s.html', 'https://cellphones.com.vn/laptop-hp-elitebook-845-g9.html', 'https://cellphones.com.vn/laptop-asus-zenbook-ux425ea-bm069t.html', 'https://cellphones.com.vn/laptop-dell-latitude-e7270.html', 'https://cellphones.com.vn/laptop-dell-xps-15-9570.html', 'https://cellphones.com.vn/laptop-hp-15-ay071tu-x3b53pa.html', 'https://cellphones.com.vn/laptop-hp-15s-fq1111tu-193r0pa.html']\n"
     ]
    }
   ],
   "source": [
    "import pandas as pd\n",
    "\n",
    "# Đọc file CSV\n",
    "df = pd.read_csv(\"../rawdata/rawdata_link.csv\")\n",
    "\n",
    "# Lấy cột product_link dưới dạng list\n",
    "product_links = df[\"product_link\"].dropna().tolist()\n",
    "selected_links = [product_links[3]] + product_links[500:600]\n",
    "# selected_links = product_links[:100]\n",
    "print(\"Số lượng link:\", len(selected_links))\n",
    "print(selected_links)"
   ]
  },
  {
   "cell_type": "code",
   "execution_count": 64,
   "id": "92992496",
   "metadata": {},
   "outputs": [
    {
     "name": "stdout",
     "output_type": "stream",
     "text": [
      "Đã lấy 101 sản phẩm. Dữ liệu đã lưu vào file.\n"
     ]
    }
   ],
   "source": [
    "from selenium import webdriver\n",
    "from selenium.webdriver.common.by import By\n",
    "from selenium.webdriver.chrome.service import Service\n",
    "from selenium.webdriver.chrome.options import Options\n",
    "import pandas as pd\n",
    "import time\n",
    "import os\n",
    "\n",
    "# Khởi tạo driver\n",
    "path = \"./chromedriver.exe\"\n",
    "service = Service(path)\n",
    "options = Options()\n",
    "options.add_argument(\"--headless=new\")\n",
    "driver = webdriver.Chrome(service=service, options=options)\n",
    "\n",
    "# Mở trang web\n",
    "# url = \"\"\n",
    "# driver.get(url)\n",
    "# time.sleep(3)\n",
    "\n",
    "# data = []\n",
    "\n",
    "from bs4 import BeautifulSoup\n",
    "\n",
    "all_data = []\n",
    "\n",
    "for link in selected_links:\n",
    "    try:\n",
    "        driver.get(link)\n",
    "        time.sleep(1)\n",
    "        for _ in range(2):\n",
    "            # Lướt xuống 1 màn hình\n",
    "            driver.execute_script(\"window.scrollBy(0, window.innerHeight);\")\n",
    "            time.sleep(0.5)\n",
    "        soup = BeautifulSoup(driver.page_source, \"html.parser\")\n",
    "\n",
    "        data = {}\n",
    "        data[\"Title\"] = soup.select_one(\".box-product-name h1\").get_text().strip().replace(\"\\n\", \"\") if soup.select_one(\".box-product-name h1\") else None\n",
    "        data[\"Information\"] = soup.select_one(\".additional-information\").get_text().strip().replace(\"\\n\", \"\") if soup.select_one(\".additional-information\") else None\n",
    "        target_div = soup.select_one('div.tpt-box.has-text-centered.is-flex.is-flex-direction-column.is-flex-wrap-wrap.is-justify-content-center.is-align-items-center.active') if soup.select_one('div.tpt-box.has-text-centered.is-flex.is-flex-direction-column.is-flex-wrap-wrap.is-justify-content-center.is-align-items-center.active') else None\n",
    "        \n",
    "        # Lấy giá sale\n",
    "        if target_div:\n",
    "            sale_price_tag = target_div.select_one('p.tpt---sale-price')\n",
    "            data['Price sale'] = sale_price_tag.get_text(strip=True) if sale_price_tag else None\n",
    "\n",
    "            origin_price_tag = soup.select_one('p.tpt---price')\n",
    "            data['Price origin'] = origin_price_tag.get_text(strip=True) if origin_price_tag else None\n",
    "        else:\n",
    "            sale_price_tag = soup.select_one('p.product__price--show')\n",
    "            data['Price sale'] = sale_price_tag.get_text(strip=True) if sale_price_tag else None\n",
    "\n",
    "            origin_price_tag = soup.select_one('p.product__price--through')\n",
    "            data['Price origin'] = origin_price_tag.get_text(strip=True) if origin_price_tag else None\n",
    "        \n",
    "        # data['Price sale'] = target_div.select_one('p.tpt---sale-price').get_text() if target_div.select_one('p.tpt---sale-price') else None\n",
    "        # data['Price origin'] = soup.select_one('p.tpt---price').get_text() if soup.select_one('p.tpt---price') else None\n",
    "        for item in soup.select(\"ul.technical-content > li\"):\n",
    "            key = item.select(\"p\")[0].text\n",
    "            value = item.select(\"div\")[0].text\n",
    "            data[key] = value\n",
    "\n",
    "    except Exception as e:\n",
    "        print(f\"Lỗi khi xử lý link: {link}\\n{e}\")\n",
    "        continue\n",
    "\n",
    "    all_data.append(data)\n",
    "\n",
    "# Ghi dữ liệu ra file CSV\n",
    "file = \"../rawdata/rawdata_cellphones.csv\"\n",
    "df = pd.DataFrame(all_data)\n",
    "df.to_csv(file, mode='a', encoding=\"utf-8\", header=not os.path.exists(file), index=False)\n",
    "\n",
    "print(f\"Đã lấy {len(all_data)} sản phẩm. Dữ liệu đã lưu vào file.\")\n",
    "\n",
    "# Đóng trình duyệt\n",
    "driver.quit()"
   ]
  }
 ],
 "metadata": {
  "kernelspec": {
   "display_name": "venv",
   "language": "python",
   "name": "python3"
  },
  "language_info": {
   "codemirror_mode": {
    "name": "ipython",
    "version": 3
   },
   "file_extension": ".py",
   "mimetype": "text/x-python",
   "name": "python",
   "nbconvert_exporter": "python",
   "pygments_lexer": "ipython3",
   "version": "3.12.8"
  }
 },
 "nbformat": 4,
 "nbformat_minor": 5
}
