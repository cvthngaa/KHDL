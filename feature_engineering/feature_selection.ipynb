{
 "cells": [
  {
   "cell_type": "code",
   "execution_count": 2,
   "id": "58a95d5a",
   "metadata": {},
   "outputs": [],
   "source": [
    "import pandas as pd\n",
    "from sklearn.feature_selection import SelectKBest, f_classif\n",
    "from sklearn.preprocessing import StandardScaler, OneHotEncoder\n",
    "from sklearn.impute import SimpleImputer\n",
    "from sklearn.compose import ColumnTransformer\n",
    "from sklearn.pipeline import Pipeline"
   ]
  },
  {
   "cell_type": "code",
   "execution_count": 3,
   "id": "360276f7",
   "metadata": {},
   "outputs": [],
   "source": [
    "# Đọc dữ liệu\n",
    "df_train = pd.read_csv(\"../clean_data/clean_data_train/encoded_data.csv\")\n",
    "df_test = pd.read_csv(\"../clean_data/clean_data_test/encoded_data.csv\")"
   ]
  },
  {
   "cell_type": "code",
   "execution_count": 6,
   "id": "d8d55ac9",
   "metadata": {},
   "outputs": [],
   "source": [
    "# Tách nhãn và đặc trưng \n",
    "X = df_train.drop(columns=[\"Phân Loại\"])  # đặc trưng\n",
    "y = df_train[\"Phân Loại\"]                 # nhãn phân loại\n",
    "\n",
    "# Xác định các cột số và phân loại\n",
    "numeric_cols = X.select_dtypes(include=\"number\").columns.tolist()\n",
    "categorical_cols = X.select_dtypes(include=\"object\").columns.tolist()"
   ]
  },
  {
   "cell_type": "code",
   "execution_count": 7,
   "id": "b3932bda",
   "metadata": {},
   "outputs": [
    {
     "name": "stdout",
     "output_type": "stream",
     "text": [
      "Bảng xếp hạng đặc trưng số theo f_classif:\n",
      "              Feature  Score (f_classif)\n",
      "15           Hãng GPU         115.864682\n",
      "1              Độ Dày         114.211237\n",
      "13       Độ Phân Giải          88.065910\n",
      "2         Trọng Lượng          61.663581\n",
      "7             Giá Bán          44.542917\n",
      "11              Cache          42.591524\n",
      "9              Số Lõi          41.354839\n",
      "5      Dung Lượng Pin          27.801474\n",
      "0       Hãng Sản Xuất          27.104886\n",
      "4              Bộ Nhớ          26.408958\n",
      "6        Hệ Điều Hành          23.189814\n",
      "14  Số Cổng Giao Tiếp          13.642868\n",
      "8            Hãng CPU           8.661398\n",
      "10   Xung nhịp tối đa           7.782629\n",
      "12      Loại Màn Hình           7.620671\n",
      "3                 RAM           7.569242\n",
      "\n",
      "Top 10 đặc trưng số được chọn:\n",
      "['Hãng Sản Xuất', 'Độ Dày', 'Trọng Lượng', 'Bộ Nhớ', 'Dung Lượng Pin', 'Giá Bán', 'Số Lõi', 'Cache', 'Độ Phân Giải', 'Hãng GPU']\n"
     ]
    }
   ],
   "source": [
    "numeric_pipeline = Pipeline([\n",
    "    ('select', SelectKBest(score_func=f_classif, k=10))\n",
    "])\n",
    "\n",
    "preprocessor = ColumnTransformer([\n",
    "    ('num', numeric_pipeline, numeric_cols)\n",
    "], remainder='passthrough')  # giữ lại các cột đã mã hóa\n",
    "\n",
    "# Fit pipeline và biến đổi dữ liệu\n",
    "X_transformed = preprocessor.fit_transform(X, y)\n",
    "\n",
    "# Lấy điểm số f_classif của các đặc trưng số\n",
    "select_kbest = preprocessor.named_transformers_['num'].named_steps['select']\n",
    "scores = select_kbest.scores_\n",
    "\n",
    "# Tạo bảng điểm đặc trưng\n",
    "feature_scores = pd.DataFrame({\n",
    "    'Feature': numeric_cols,\n",
    "    'Score (f_classif)': scores\n",
    "}).sort_values(by='Score (f_classif)', ascending=False)\n",
    "\n",
    "print(\"Bảng xếp hạng đặc trưng số theo f_classif:\")\n",
    "print(feature_scores)\n",
    "\n",
    "# Lấy tên top 10 đặc trưng số được chọn\n",
    "selected_mask = select_kbest.get_support()\n",
    "selected_features = [f for f, keep in zip(numeric_cols, selected_mask) if keep]\n",
    "\n",
    "print(\"\\nTop 10 đặc trưng số được chọn:\")\n",
    "print(selected_features)"
   ]
  },
  {
   "cell_type": "code",
   "execution_count": 32,
   "id": "5d5f574c",
   "metadata": {},
   "outputs": [],
   "source": [
    "df_train[selected_features + [\"Phân Loại\"]].to_csv(\"data_train.csv\", index=False)\n",
    "df_test[selected_features + [\"Phân Loại\"]].to_csv(\"data_test.csv\", index=False)"
   ]
  }
 ],
 "metadata": {
  "kernelspec": {
   "display_name": "Python 3",
   "language": "python",
   "name": "python3"
  },
  "language_info": {
   "codemirror_mode": {
    "name": "ipython",
    "version": 3
   },
   "file_extension": ".py",
   "mimetype": "text/x-python",
   "name": "python",
   "nbconvert_exporter": "python",
   "pygments_lexer": "ipython3",
   "version": "3.11.9"
  }
 },
 "nbformat": 4,
 "nbformat_minor": 5
}
